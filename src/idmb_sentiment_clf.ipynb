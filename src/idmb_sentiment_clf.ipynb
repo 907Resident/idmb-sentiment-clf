{
 "cells": [
  {
   "cell_type": "markdown",
   "metadata": {},
   "source": [
    "# IDMb Sentiment Classification\n",
    "\n",
    "This is a worked example using prinicples introduced by Paul Anzure in _Transfer Learning for Natural Language Processing_. The example can be found in chapter two of the text. \n",
    "\n",
    "Although I retained many of the core concepts, I have made several substantial changes to what Anzure presented in his text. The most distinguishing is the creation of a custom package called, `crisp-nlp`. Rather than using space within the notebook to create functions, these functions are written within the `crisp-nlp` package and will be used throughout this notebook."
   ]
  },
  {
   "cell_type": "markdown",
   "metadata": {},
   "source": [
    "## Import necessary libraries"
   ]
  },
  {
   "cell_type": "code",
   "execution_count": 1,
   "metadata": {},
   "outputs": [],
   "source": [
    "from sklearn.pipeline import make_pipeline\n",
    "\n",
    "import matplotlib.pyplot as plt\n",
    "import seaborn as sns\n",
    "import pandas as pd \n",
    "import numpy as np\n",
    "\n",
    "import time\n",
    "import os"
   ]
  },
  {
   "cell_type": "markdown",
   "metadata": {},
   "source": [
    "## Import Data\n",
    "\n",
    "The data for this project is farily well known and can be found within the Standford University ecosytem. Using the command shell `!`, we can acquire the data for this project. You can observe the details behind this data set [here](https://ai.stanford.edu/~amaas/data/sentiment/)."
   ]
  },
  {
   "cell_type": "code",
   "execution_count": null,
   "metadata": {},
   "outputs": [],
   "source": [
    "# Import needed data \n",
    "!wget \"https://ai.stanford.edu/~amaas/data/sentiment/aclImdb_v1.tar.gz\" --directory-prefix=\"../data\"\n",
    "!tar xzf \"../data/aclImdb_v1.tar.gz\" -C \"../data\""
   ]
  },
  {
   "cell_type": "markdown",
   "metadata": {},
   "source": [
    "Next step is to load the useful trining data into memory. The \"useful training data\" is located in the `data/aclImdb/train` folder. "
   ]
  },
  {
   "cell_type": "code",
   "execution_count": null,
   "metadata": {},
   "outputs": [],
   "source": []
  }
 ],
 "metadata": {
  "interpreter": {
   "hash": "43dc517f073bdebe4fb1ae6d4ec9eb4cc0267aff30aae433230868c32395a3c3"
  },
  "kernelspec": {
   "display_name": "Python 3.10.0 64-bit",
   "language": "python",
   "name": "python3"
  },
  "language_info": {
   "codemirror_mode": {
    "name": "ipython",
    "version": 3
   },
   "file_extension": ".py",
   "mimetype": "text/x-python",
   "name": "python",
   "nbconvert_exporter": "python",
   "pygments_lexer": "ipython3",
   "version": "3.8.12"
  },
  "orig_nbformat": 4
 },
 "nbformat": 4,
 "nbformat_minor": 2
}
